{
  "nbformat": 4,
  "nbformat_minor": 0,
  "metadata": {
    "colab": {
      "provenance": []
    },
    "kernelspec": {
      "name": "python3",
      "display_name": "Python 3"
    },
    "language_info": {
      "name": "python"
    }
  },
  "cells": [
    {
      "cell_type": "markdown",
      "metadata": {
        "id": "BFH5U8e-LAw2"
      },
      "source": [
        "# Text Analysis - LDA Topic Model\n",
        "\n",
        "Topic modeling is a method for unsupervised classification of documents, similar to clustering on numeric data, which finds some natural groups of items (topics) even when we’re not sure what we’re looking for.\n",
        "\n",
        "Latent Dirichlet Allocation (LDA) is one of the most popular topic modeling methods. It is a generative statistical model that explains a set of observations through unobserved groups, and each group explains why some parts of the data are similar.\n",
        "\n",
        "## Data Description\n",
        "The data used for this analysis is a historical dataset containing 13,087 press releases from the Department of Justice's (DOJ) website https://www.justice.gov/news. The DOJ typically publishes several releases per day and this dataset spans from 2009 to July 2018. The releases contain information such as outcomes of criminal cases, notable actions taken against felons, or other updates about the current administration. This dataset only includes releases categorized as \"Press release\" and does not contain those which have been labeled as \"Speeches\". Some releases are tagged with topics or related agencies.\n",
        "\n",
        "The dataset can be found here: https://www.kaggle.com/datasets/jbencina/department-of-justice-20092018-press-releases\n",
        "\n",
        "We are asking ourselves a simple question: what are the documents talking about?\n"
      ]
    },
    {
      "cell_type": "markdown",
      "metadata": {
        "id": "BzAAOMkXLAw3"
      },
      "source": [
        "## LDA \n",
        "In order to answer this question, I will use a topic modelling process called Latent Dirichlet Allocation (LDA) to try and find out what the documents are talking about. Each document is made up of various words, and each topic also has various words belonging to it. The aim of LDA is to find topics a document belongs to, based on the words in it.\n"
      ]
    },
    {
      "cell_type": "code",
      "execution_count": null,
      "metadata": {
        "id": "p2zK0IHCLAw6",
        "outputId": "b86dd122-f994-42da-b6e5-ff795d47614e"
      },
      "outputs": [
        {
          "name": "stderr",
          "output_type": "stream",
          "text": [
            "C:\\Users\\krist\\anaconda3\\lib\\site-packages\\gensim\\similarities\\__init__.py:15: UserWarning: The gensim.similarities.levenshtein submodule is disabled, because the optional Levenshtein package <https://pypi.org/project/python-Levenshtein/> is unavailable. Install Levenhstein (e.g. `pip install python-Levenshtein`) to suppress this warning.\n",
            "  warnings.warn(msg)\n",
            "C:\\Users\\krist\\anaconda3\\lib\\site-packages\\sklearn\\decomposition\\_lda.py:28: DeprecationWarning: `np.float` is a deprecated alias for the builtin `float`. To silence this warning, use `float` by itself. Doing this will not modify any behavior and is safe. If you specifically wanted the numpy scalar type, use `np.float64` here.\n",
            "Deprecated in NumPy 1.20; for more details and guidance: https://numpy.org/devdocs/release/1.20.0-notes.html#deprecations\n",
            "  EPS = np.finfo(np.float).eps\n"
          ]
        }
      ],
      "source": [
        "# import libraries\n",
        "import pandas as pd\n",
        "import numpy as np\n",
        "import json\n",
        "import nltk\n",
        "import glob\n",
        "import datetime\n",
        "\n",
        "#Gensim\n",
        "import gensim\n",
        "import gensim.corpora as corpora\n",
        "from gensim.utils import simple_preprocess\n",
        "from gensim.models import CoherenceModel\n",
        "\n",
        "#spacy\n",
        "import spacy\n",
        "from nltk.corpus import stopwords\n",
        "\n",
        "#vis\n",
        "import pyLDAvis\n",
        "import pyLDAvis.gensim_models\n",
        "\n",
        "import warnings\n",
        "warnings.filterwarnings(\"ignore\", category=DeprecationWarning)"
      ]
    },
    {
      "cell_type": "markdown",
      "metadata": {
        "id": "bUp4lKs4LAw7"
      },
      "source": [
        "After importing the required libaries, we can then read the data in. The data is in a JSON format and be read in as follows:"
      ]
    },
    {
      "cell_type": "code",
      "execution_count": null,
      "metadata": {
        "id": "KUKnk1ROLAw_",
        "outputId": "790e75e8-15cb-432d-b8ca-fc857799068c"
      },
      "outputs": [
        {
          "data": {
            "text/html": [
              "<div>\n",
              "<style scoped>\n",
              "    .dataframe tbody tr th:only-of-type {\n",
              "        vertical-align: middle;\n",
              "    }\n",
              "\n",
              "    .dataframe tbody tr th {\n",
              "        vertical-align: top;\n",
              "    }\n",
              "\n",
              "    .dataframe thead th {\n",
              "        text-align: right;\n",
              "    }\n",
              "</style>\n",
              "<table border=\"1\" class=\"dataframe\">\n",
              "  <thead>\n",
              "    <tr style=\"text-align: right;\">\n",
              "      <th></th>\n",
              "      <th>id</th>\n",
              "      <th>title</th>\n",
              "      <th>contents</th>\n",
              "      <th>date</th>\n",
              "      <th>topics</th>\n",
              "      <th>components</th>\n",
              "    </tr>\n",
              "  </thead>\n",
              "  <tbody>\n",
              "    <tr>\n",
              "      <th>0</th>\n",
              "      <td>None</td>\n",
              "      <td>Convicted Bomb Plotter Sentenced to 30 Years</td>\n",
              "      <td>PORTLAND, Oregon. – Mohamed Osman Mohamud, 23,...</td>\n",
              "      <td>2014-10-01T00:00:00-04:00</td>\n",
              "      <td>[]</td>\n",
              "      <td>[National Security Division (NSD)]</td>\n",
              "    </tr>\n",
              "    <tr>\n",
              "      <th>1</th>\n",
              "      <td>12-919</td>\n",
              "      <td>$1 Million in Restitution Payments Announced t...</td>\n",
              "      <td>WASHINGTON – North Carolina’s Waccamaw River...</td>\n",
              "      <td>2012-07-25T00:00:00-04:00</td>\n",
              "      <td>[]</td>\n",
              "      <td>[Environment and Natural Resources Division]</td>\n",
              "    </tr>\n",
              "    <tr>\n",
              "      <th>2</th>\n",
              "      <td>11-1002</td>\n",
              "      <td>$1 Million Settlement Reached for Natural Reso...</td>\n",
              "      <td>BOSTON– A $1-million settlement has been...</td>\n",
              "      <td>2011-08-03T00:00:00-04:00</td>\n",
              "      <td>[]</td>\n",
              "      <td>[Environment and Natural Resources Division]</td>\n",
              "    </tr>\n",
              "    <tr>\n",
              "      <th>3</th>\n",
              "      <td>10-015</td>\n",
              "      <td>10 Las Vegas Men Indicted \\r\\nfor Falsifying V...</td>\n",
              "      <td>WASHINGTON—A federal grand jury in Las Vegas...</td>\n",
              "      <td>2010-01-08T00:00:00-05:00</td>\n",
              "      <td>[]</td>\n",
              "      <td>[Environment and Natural Resources Division]</td>\n",
              "    </tr>\n",
              "    <tr>\n",
              "      <th>4</th>\n",
              "      <td>18-898</td>\n",
              "      <td>$100 Million Settlement Will Speed Cleanup Wor...</td>\n",
              "      <td>The U.S. Department of Justice, the U.S. Envir...</td>\n",
              "      <td>2018-07-09T00:00:00-04:00</td>\n",
              "      <td>[Environment]</td>\n",
              "      <td>[Environment and Natural Resources Division]</td>\n",
              "    </tr>\n",
              "  </tbody>\n",
              "</table>\n",
              "</div>"
            ],
            "text/plain": [
              "        id                                              title  \\\n",
              "0     None       Convicted Bomb Plotter Sentenced to 30 Years   \n",
              "1  12-919   $1 Million in Restitution Payments Announced t...   \n",
              "2  11-1002  $1 Million Settlement Reached for Natural Reso...   \n",
              "3   10-015  10 Las Vegas Men Indicted \\r\\nfor Falsifying V...   \n",
              "4   18-898  $100 Million Settlement Will Speed Cleanup Wor...   \n",
              "\n",
              "                                            contents  \\\n",
              "0  PORTLAND, Oregon. – Mohamed Osman Mohamud, 23,...   \n",
              "1    WASHINGTON – North Carolina’s Waccamaw River...   \n",
              "2        BOSTON– A $1-million settlement has been...   \n",
              "3    WASHINGTON—A federal grand jury in Las Vegas...   \n",
              "4  The U.S. Department of Justice, the U.S. Envir...   \n",
              "\n",
              "                        date         topics  \\\n",
              "0  2014-10-01T00:00:00-04:00             []   \n",
              "1  2012-07-25T00:00:00-04:00             []   \n",
              "2  2011-08-03T00:00:00-04:00             []   \n",
              "3  2010-01-08T00:00:00-05:00             []   \n",
              "4  2018-07-09T00:00:00-04:00  [Environment]   \n",
              "\n",
              "                                     components  \n",
              "0            [National Security Division (NSD)]  \n",
              "1  [Environment and Natural Resources Division]  \n",
              "2  [Environment and Natural Resources Division]  \n",
              "3  [Environment and Natural Resources Division]  \n",
              "4  [Environment and Natural Resources Division]  "
            ]
          },
          "execution_count": 2,
          "metadata": {},
          "output_type": "execute_result"
        }
      ],
      "source": [
        "# load json data\n",
        "docs = pd.read_json('combined.json', lines=True)\n",
        "docs.head()\n",
        "#docs['contents']"
      ]
    },
    {
      "cell_type": "markdown",
      "metadata": {
        "id": "U2BAueQJLAxA"
      },
      "source": [
        "Here we can see the first few documents in the file. Next, let us define the stopwords we will be using in the data preparation."
      ]
    },
    {
      "cell_type": "code",
      "execution_count": null,
      "metadata": {
        "id": "PU8LUf6nLAxA",
        "outputId": "60b00061-5f32-4639-fddc-7d1a5244fe3b"
      },
      "outputs": [
        {
          "name": "stdout",
          "output_type": "stream",
          "text": [
            "['i', 'me', 'my', 'myself', 'we', 'our', 'ours', 'ourselves', 'you', \"you're\", \"you've\", \"you'll\", \"you'd\", 'your', 'yours', 'yourself', 'yourselves', 'he', 'him', 'his', 'himself', 'she', \"she's\", 'her', 'hers', 'herself', 'it', \"it's\", 'its', 'itself', 'they', 'them', 'their', 'theirs', 'themselves', 'what', 'which', 'who', 'whom', 'this', 'that', \"that'll\", 'these', 'those', 'am', 'is', 'are', 'was', 'were', 'be', 'been', 'being', 'have', 'has', 'had', 'having', 'do', 'does', 'did', 'doing', 'a', 'an', 'the', 'and', 'but', 'if', 'or', 'because', 'as', 'until', 'while', 'of', 'at', 'by', 'for', 'with', 'about', 'against', 'between', 'into', 'through', 'during', 'before', 'after', 'above', 'below', 'to', 'from', 'up', 'down', 'in', 'out', 'on', 'off', 'over', 'under', 'again', 'further', 'then', 'once', 'here', 'there', 'when', 'where', 'why', 'how', 'all', 'any', 'both', 'each', 'few', 'more', 'most', 'other', 'some', 'such', 'no', 'nor', 'not', 'only', 'own', 'same', 'so', 'than', 'too', 'very', 's', 't', 'can', 'will', 'just', 'don', \"don't\", 'should', \"should've\", 'now', 'd', 'll', 'm', 'o', 're', 've', 'y', 'ain', 'aren', \"aren't\", 'couldn', \"couldn't\", 'didn', \"didn't\", 'doesn', \"doesn't\", 'hadn', \"hadn't\", 'hasn', \"hasn't\", 'haven', \"haven't\", 'isn', \"isn't\", 'ma', 'mightn', \"mightn't\", 'mustn', \"mustn't\", 'needn', \"needn't\", 'shan', \"shan't\", 'shouldn', \"shouldn't\", 'wasn', \"wasn't\", 'weren', \"weren't\", 'won', \"won't\", 'wouldn', \"wouldn't\"]\n"
          ]
        }
      ],
      "source": [
        "stopwords = stopwords.words(\"english\")\n",
        "print (stopwords)"
      ]
    },
    {
      "cell_type": "markdown",
      "metadata": {
        "id": "DCkZpUaZLAxB"
      },
      "source": [
        "The following fuction lemmatizes our words. Lemmatization is the process of grouping together the inflected forms of a word so they can be analysed as a single item, identified by the word's lemma (the word's base or dictionary form). \n",
        "\n",
        "Take for example the words cars, car's, and cars'. After lemmatization these will be returned as \"car\". Note that this is a bit different from stemming, where stemming typically takes a more crude approach of chopping off the ends of words."
      ]
    },
    {
      "cell_type": "code",
      "execution_count": null,
      "metadata": {
        "id": "QdVx8t9sLAxB",
        "outputId": "074f3137-bc1d-4837-d1f0-f91c9ddcc544"
      },
      "outputs": [
        {
          "name": "stdout",
          "output_type": "stream",
          "text": [
            "convict attempt use weapon mass destruction explosive connection plot detonate vehicle bom\n"
          ]
        }
      ],
      "source": [
        "def lemmatization(texts, allowed_postags=[\"NOUN\", \"ADJ\", \"VERB\", \"ADV\"]):\n",
        "    nlp = spacy.load(\"en_core_web_sm\",disable=[\"parser\", \"ner\"])\n",
        "    texts_out = []\n",
        "    for text in texts:\n",
        "        doc = nlp(text)\n",
        "        new_text = []\n",
        "        for token in doc:\n",
        "            if token.pos_ in allowed_postags:\n",
        "                new_text.append(token.lemma_)\n",
        "        final = \" \".join(new_text)\n",
        "        texts_out.append(final)\n",
        "    return (texts_out)\n",
        "\n",
        "\n",
        "lemmatized_texts = lemmatization(docs['contents'])\n",
        "print (lemmatized_texts[0][0:90])"
      ]
    },
    {
      "cell_type": "markdown",
      "metadata": {
        "id": "cSbqa8JjLAxC"
      },
      "source": [
        "Next, let us put all of our words into a list:"
      ]
    },
    {
      "cell_type": "code",
      "execution_count": null,
      "metadata": {
        "id": "lmn2ZNDxLAxD",
        "outputId": "f68dbe15-038a-4893-8818-9b7927b191bb"
      },
      "outputs": [
        {
          "name": "stdout",
          "output_type": "stream",
          "text": [
            "['convict', 'attempt', 'use', 'weapon', 'mass', 'destruction', 'explosive', 'connection', 'plot', 'detonate', 'vehicle', 'bomb', 'annual', 'tree', 'lighting', 'ceremony', 'sentence', 'today', 'serve', 'year']\n"
          ]
        }
      ],
      "source": [
        "def gen_words(texts):\n",
        "    final = []\n",
        "    for text in texts:\n",
        "        new = gensim.utils.simple_preprocess(text, deacc=True)\n",
        "        final.append(new)\n",
        "    return (final)\n",
        "\n",
        "data_words = gen_words(lemmatized_texts)\n",
        "\n",
        "print (data_words[0][0:20])\n"
      ]
    },
    {
      "cell_type": "markdown",
      "metadata": {
        "id": "hf3CiZVHLAxD"
      },
      "source": [
        "Now, we can try and add bigrams and trigrams into our corpus. This is important as N-grams help us see which words often show up together. "
      ]
    },
    {
      "cell_type": "code",
      "execution_count": null,
      "metadata": {
        "id": "v0dqVWH5LAxE",
        "outputId": "a79a5484-4c14-4123-b20b-763c729be266"
      },
      "outputs": [
        {
          "name": "stdout",
          "output_type": "stream",
          "text": [
            "['convict', 'attempt', 'use', 'weapon_mass_destruction', 'explosive', 'connection', 'plot', 'detonate', 'vehicle', 'bomb', 'annual_tree_lighting', 'ceremony', 'sentence', 'today', 'serve', 'year', 'prison', 'follow', 'lifetime', 'term']\n"
          ]
        }
      ],
      "source": [
        "# bigrams and trigrams\n",
        "bigram_phrases = gensim.models.Phrases(data_words, min_count=5, threshold=100)\n",
        "trigram_phrases = gensim.models.Phrases(bigram_phrases[data_words], threshold=100)\n",
        "\n",
        "bigram = gensim.models.phrases.Phraser(bigram_phrases)\n",
        "trigram = gensim.models.phrases.Phraser(trigram_phrases)\n",
        "\n",
        "def make_bigrams(texts):\n",
        "    return([bigram[doc] for doc in texts])\n",
        "\n",
        "def make_trigrams(texts):\n",
        "    return ([trigram[bigram[doc]] for doc in texts])\n",
        "\n",
        "data_bigrams = make_bigrams(data_words)\n",
        "data_bigrams_trigrams = make_trigrams(data_bigrams)\n",
        "\n",
        "print (data_bigrams_trigrams[0][0:20])"
      ]
    },
    {
      "cell_type": "markdown",
      "metadata": {
        "id": "BIi7AMCVLAxF"
      },
      "source": [
        "The final step before fitting our LDA model is to remove \"low-value\" words from our corpus using TF-IDF. This filters out words that appear frequently in multiple documents, and thus do not add any value to our model."
      ]
    },
    {
      "cell_type": "code",
      "execution_count": null,
      "metadata": {
        "id": "aJs7NTlgLAxG"
      },
      "outputs": [],
      "source": [
        "#TF-IDF REMOVAL\n",
        "from gensim.models import TfidfModel\n",
        "\n",
        "id2word = corpora.Dictionary(data_bigrams_trigrams)\n",
        "\n",
        "texts = data_bigrams_trigrams\n",
        "\n",
        "corpus = [id2word.doc2bow(text) for text in texts]\n",
        "# print (corpus[0][0:20])\n",
        "\n",
        "tfidf = TfidfModel(corpus, id2word=id2word)\n",
        "\n",
        "low_value = 0.03 # can change\n",
        "words  = []\n",
        "words_missing_in_tfidf = []\n",
        "for i in range(0, len(corpus)):\n",
        "    bow = corpus[i]\n",
        "    low_value_words = [] #reinitialize to be safe. You can skip this.\n",
        "    tfidf_ids = [id for id, value in tfidf[bow]]\n",
        "    bow_ids = [id for id, value in bow]\n",
        "    low_value_words = [id for id, value in tfidf[bow] if value < low_value]\n",
        "    drops = low_value_words+words_missing_in_tfidf\n",
        "    for item in drops:\n",
        "        words.append(id2word[item])\n",
        "    words_missing_in_tfidf = [id for id in bow_ids if id not in tfidf_ids] # The words with tf-idf socre 0 will be missing\n",
        "\n",
        "    new_bow = [b for b in bow if b[0] not in low_value_words and b[0] not in words_missing_in_tfidf]\n",
        "    corpus[i] = new_bow"
      ]
    },
    {
      "cell_type": "markdown",
      "metadata": {
        "id": "9bS9_nFeLAxH"
      },
      "source": [
        "Finally, let us fit our LDA model using our cleaned corpus:"
      ]
    },
    {
      "cell_type": "code",
      "execution_count": null,
      "metadata": {
        "id": "-klYGzBDLAxI"
      },
      "outputs": [],
      "source": [
        "lda_model = gensim.models.ldamodel.LdaModel(corpus=corpus,\n",
        "                                           id2word=id2word,\n",
        "                                           num_topics=5,\n",
        "                                           random_state=100,\n",
        "                                           update_every=1,\n",
        "                                           chunksize=100,\n",
        "                                           passes=10,\n",
        "                                           alpha=\"auto\")"
      ]
    },
    {
      "cell_type": "markdown",
      "metadata": {
        "id": "TVSAx5VdLAxI"
      },
      "source": [
        "We can note that there are some parameters here that we can change. For this assignment, I tried several different low value thresholds in the TF-IDF removal, as well as different numbers of topics. Ultimately, I decided on using 0.03 as my threshold, and 5 topics. I found this to be a good number of topics that resulted in coherent topics.\n",
        "\n",
        "Next, we can visualize the results using pyLDAvis: "
      ]
    },
    {
      "cell_type": "code",
      "execution_count": null,
      "metadata": {
        "id": "uY-mjsx5LAxJ",
        "outputId": "b4abafca-9f90-4444-ed81-ec695ef78826"
      },
      "outputs": [
        {
          "name": "stderr",
          "output_type": "stream",
          "text": [
            "C:\\Users\\krist\\AppData\\Roaming\\Python\\Python38\\site-packages\\pyLDAvis\\_prepare.py:246: FutureWarning: In a future version of pandas all arguments of DataFrame.drop except for the argument 'labels' will be keyword-only.\n",
            "  default_term_info = default_term_info.sort_values(\n"
          ]
        },
        {
          "data": {
            "text/html": [
              "\n",
              "<link rel=\"stylesheet\" type=\"text/css\" href=\"https://cdn.jsdelivr.net/gh/bmabey/pyLDAvis@3.3.1/pyLDAvis/js/ldavis.v1.0.0.css\">\n",
              "\n",
              "\n",
              "<div id=\"ldavis_el154428599567710723687696036\"></div>\n",
              "<script type=\"text/javascript\">\n",
              "\n",
              "var ldavis_el154428599567710723687696036_data = {\"mdsDat\": {\"x\": [0.13494060626711235, -0.01710971643449914, -0.2925283466826982, -0.10321337773846195, 0.277910834588547], \"y\": [0.2093572748250011, -0.2797648879418615, -0.09931712315899992, 0.2527789107226839, -0.0830541744468236], \"topics\": [1, 2, 3, 4, 5], \"cluster\": [1, 1, 1, 1, 1], \"Freq\": [29.023729320432217, 21.774029076911646, 19.55434314843346, 16.824458534591788, 12.823439919630871]}, \"tinfo\": {\"Term\": [\"tax\", \"settlement\", \"indictment\", \"charge\", \"fraud\", \"return\", \"health\", \"scheme\", \"account\", \"sentence\", \"conspiracy\", \"care\", \"prison\", \"member\", \"guilty\", \"company\", \"victim\", \"year\", \"false\", \"pay\", \"count\", \"program\", \"child\", \"law\", \"bank\", \"defendant\", \"income\", \"claim\", \"plead\", \"foreign\", \"tax\", \"return\", \"scheme\", \"account\", \"bank\", \"income\", \"fraudulent\", \"refund\", \"loan\", \"defraud\", \"wire\", \"client\", \"taxis\", \"bribe\", \"cash\", \"bribery\", \"prepare\", \"investor\", \"fraudulently\", \"homeowner\", \"preparation\", \"offshore\", \"bid\", \"preparer\", \"deposit\", \"evasion\", \"launder\", \"swiss\", \"fictitious\", \"aggravate_identity_theft\", \"purport\", \"check\", \"fraud\", \"false\", \"loss\", \"business\", \"restitution\", \"file\", \"personal\", \"co_conspirator\", \"pay\", \"money\", \"count\", \"payment\", \"customer\", \"plead\", \"indictment\", \"conspiracy\", \"charge\", \"guilty\", \"more\", \"admit\", \"sentence\", \"company\", \"prison\", \"document\", \"claim\", \"year\", \"defendant\", \"allege\", \"auction\", \"grant\", \"antitrust\", \"competition\", \"campaign\", \"foreclosure_auction\", \"anticompetitive\", \"tribal\", \"funding\", \"public_real_estate\", \"recognize\", \"automotive\", \"competitive\", \"section\", \"election\", \"elect\", \"native\", \"strengthen\", \"fix\", \"counsel\", \"loss_suffer\", \"increase_gain_derive\", \"bid_rigging\", \"rig_bid\", \"competitor\", \"trader\", \"guidance\", \"strategy\", \"technical\", \"colleague\", \"department\", \"task_force\", \"wildlife\", \"ongoing\", \"jurisdiction\", \"strong\", \"economic\", \"award\", \"industry\", \"cooperation\", \"rate\", \"law\", \"team\", \"combat\", \"investigation\", \"local\", \"enforcement\", \"market\", \"policy\", \"criminal\", \"public\", \"executive\", \"price\", \"agency\", \"partner\", \"agree\", \"issue\", \"state\", \"continue\", \"community\", \"crime\", \"effort\", \"work\", \"agreement\", \"official\", \"country\", \"financial\", \"conduct\", \"say\", \"people\", \"help\", \"serve\", \"fine\", \"settlement\", \"health\", \"care\", \"patient\", \"emission\", \"resolve\", \"lawsuit\", \"compliance\", \"environmental\", \"water\", \"treatment\", \"physician\", \"provider\", \"requirement\", \"pollution\", \"consent_decree\", \"approve\", \"waste\", \"oil\", \"prescription\", \"quality\", \"inspection\", \"settle\", \"cleanup\", \"treat\", \"whistleblower\", \"vessel\", \"allegation_only_determination\", \"doctor\", \"air_pollution\", \"recovery\", \"facility\", \"plant\", \"discharge\", \"permit\", \"environment\", \"medical\", \"require\", \"program\", \"hospital\", \"reduce\", \"project\", \"violation\", \"government\", \"company\", \"service\", \"claim\", \"complaint\", \"control\", \"drug\", \"civil\", \"allege\", \"allegation\", \"violate\", \"product\", \"agreement\", \"pay\", \"contract\", \"murder\", \"assault\", \"gang\", \"cocaine\", \"firearm\", \"inmate\", \"kill\", \"terrorist_organization\", \"death\", \"hate\", \"racketeering\", \"possess_intent_distribute\", \"possession_intent_distribute\", \"shooting\", \"incident\", \"bomb\", \"explosive\", \"gram\", \"plot\", \"shoot\", \"sex_trafficking\", \"methamphetamine\", \"narcotic\", \"detainee\", \"kidnapping\", \"heroin\", \"aid_racketeering\", \"robbery\", \"gun\", \"street_gang\", \"imprisonment\", \"violent\", \"attack\", \"member\", \"violence\", \"terrorist\", \"life\", \"aka\", \"attempt\", \"man\", \"officer\", \"month\", \"right\", \"sentence\", \"prison\", \"year\", \"defendant\", \"charge\", \"victim\", \"indictment\", \"support\", \"conspiracy\", \"guilty\", \"drug\", \"crime\", \"trial\", \"convict\", \"arrest\", \"plead\", \"count\", \"admit\", \"child\", \"computer\", \"export\", \"ship\", \"minor\", \"online\", \"internet\", \"software\", \"student\", \"counterfeit\", \"image\", \"exploit\", \"lottery\", \"origin\", \"identify_rescue\", \"well_locate_apprehend\", \"sexual_exploitation\", \"odometer\", \"user\", \"internet_as_well\", \"lead_office_marshal\", \"epidemic_child\", \"nationwide_initiative_combat_grow\", \"trade_secret\", \"nuclear\", \"visa\", \"child_pornography\", \"immigration\", \"girl\", \"classified\", \"military\", \"access\", \"affidavit\", \"email\", \"housing\", \"school\", \"foreign\", \"network\", \"launch\", \"travel\", \"transfer\", \"information\", \"item\", \"victim\", \"sexual\", \"national\", \"international\", \"security\", \"complaint\", \"sell\", \"abuse\", \"send\", \"purchase\", \"website\", \"agent\", \"defendant\", \"vehicle\", \"allegedly\", \"use\", \"steal\", \"individual\", \"arrest\", \"government\"], \"Freq\": [13384.0, 8388.0, 13416.0, 15262.0, 12158.0, 8047.0, 6042.0, 7703.0, 7302.0, 11683.0, 10392.0, 4882.0, 8535.0, 6242.0, 9890.0, 10996.0, 7044.0, 7147.0, 8299.0, 8448.0, 10178.0, 6319.0, 2987.0, 7463.0, 4784.0, 11938.0, 4541.0, 7114.0, 7996.0, 3809.0, 13383.746349504732, 8046.908063006551, 7702.505065525106, 7301.704766511816, 4783.300512885266, 4540.534494124733, 4131.282575534844, 2655.684397810283, 2718.716642361674, 2580.448260434789, 2432.3826890565515, 2154.9434471712125, 2087.933238397999, 2020.2931245432017, 1990.6467069128892, 1798.3775785943724, 1615.4859888718565, 1373.2798380951144, 1213.9847471492205, 892.5740712762888, 856.909751751277, 782.5380008021228, 770.0657515471883, 725.0674164798043, 704.8874416798348, 672.1625362693633, 677.9106524047046, 657.9836687539078, 618.4409377389376, 557.496048834287, 798.6761203951402, 1286.8514866265025, 10811.714261299088, 7369.145631970034, 1557.1796761601522, 5352.376231042964, 1942.702740151875, 5980.716483756465, 1541.2335153882304, 3457.5871558873437, 6577.760159055925, 2812.8908109805498, 7534.17132977682, 3327.7335168610766, 3118.5367078715594, 5771.759516093677, 8689.177408075519, 6959.645867813667, 9418.90336355499, 6529.743868271475, 3342.7337480142273, 4361.832695111651, 5998.553932034519, 5322.074466283298, 4343.846596666853, 3064.531816427201, 3661.456571593265, 3647.4277121066552, 4167.046662190998, 3796.1736438634584, 1050.4686368760372, 974.6489653483364, 917.9167215835638, 885.4611029690329, 807.3328160393078, 748.6230305181482, 664.456174752658, 635.6621502361288, 654.733439834306, 612.8652500325991, 631.5317987480366, 583.5609163728834, 531.277283717337, 533.3084942541748, 489.6727196833386, 491.8863290124773, 472.87551732074206, 454.3536759364098, 452.643673854797, 458.2057647166706, 419.63364762363227, 413.06782725245046, 408.4049163275784, 405.25714316608935, 395.09162740522777, 373.3181602842487, 381.8227854548988, 370.3895391108637, 373.23594142828347, 355.6326350556208, 3307.3012255038684, 968.7432548921486, 832.9607042002377, 1956.178257627419, 649.6335116971925, 567.4826933767642, 638.4369495003099, 1815.6331790335357, 1378.133537534925, 1365.407227442119, 1396.1935915006538, 5526.501544078532, 873.1864470285913, 1098.3454782512797, 3955.96709069799, 2614.9981917446135, 4307.252795805348, 1962.1149576491418, 1018.1507020059591, 5592.339251363725, 3066.58221547271, 1465.1158864750478, 1710.1158529935856, 2107.8040896611683, 1831.5748978188383, 2960.8217982733554, 1320.09715848975, 3489.7847297659823, 2247.565314538579, 2523.071988413523, 3596.22391495785, 2411.696347723497, 2547.075712372462, 2983.758794903776, 2409.123677632442, 1813.335233049403, 3069.226729885247, 2345.9755214986258, 2442.7341669072207, 1655.637698007742, 1517.877176638122, 1627.7772207491626, 1688.1517571524341, 8387.392945234908, 6041.724869031538, 4881.671257875132, 3145.7837025076324, 2479.291890859123, 2364.324672202876, 2359.134152504042, 1884.7678385732888, 1547.9721565498053, 1449.5276428725365, 1421.4203527594138, 1326.991028671067, 1188.2719340935134, 1148.6343715199039, 1111.7844743311155, 1058.5366757538811, 1100.4669265091206, 1067.728517976023, 968.9455130790622, 919.9159025234985, 925.4702400965853, 689.9784799399346, 686.6290057995847, 659.6184176083577, 663.5402934015809, 611.6910943205623, 588.0271875967491, 555.6001620960482, 545.2974619891957, 523.9291805685486, 530.0695942619898, 3280.0660101819503, 950.1233789837803, 1367.9636815063582, 1099.4068663821304, 969.3950371227386, 1479.5633217977029, 2614.476713387198, 4889.669858360942, 859.5359061641719, 1902.2022068173665, 1446.1524568813593, 2568.3342451524277, 5261.272163974515, 5392.463464203691, 3072.5740703799083, 3452.8839302088436, 3354.1662160791516, 2122.424305451834, 2446.50687357771, 2068.630683764154, 2840.098493293521, 1445.5476987420516, 1532.2399706099318, 1515.381952280465, 1746.3984059071724, 1870.2465170989651, 1564.6156205585114, 2716.068607040856, 2527.7305428462873, 2183.975284145314, 1787.963395764765, 1437.7764167546952, 1276.4292732296367, 1228.1769541008853, 1210.4135378642172, 1149.8124748240466, 975.4390801481459, 796.4772455294749, 675.9456254213774, 642.1191480376153, 618.5920318071068, 637.5838182991341, 564.1679506624821, 560.2829102194166, 550.3590489816661, 537.7257802004685, 532.9049313294138, 520.6490681340758, 468.3011319878434, 445.12349912970706, 603.4518122440533, 431.52786681837574, 431.2873795048834, 419.17121023221483, 412.14773784974597, 376.9444964885008, 366.17994463013025, 1891.2106271652058, 1301.6798197320823, 2309.3937473174715, 5174.298689136414, 1969.4425380694045, 1200.2505149967008, 1451.2609401987077, 1041.6298886206832, 2494.4151165390526, 1973.730627792912, 2459.134861238827, 3149.176606005868, 1904.8007081759329, 5317.741313963176, 4191.182574528684, 3499.681749110274, 4697.009462911194, 5485.542382999749, 3205.8038492209207, 4726.477755044414, 2205.1403219686927, 3432.574644617095, 3292.8876817872256, 2195.114507366859, 2450.350218025835, 2148.4114982381047, 1803.6523655353153, 1661.8023839953578, 2113.3004333234608, 2248.7501795428234, 1911.6906179229668, 2987.1112417385802, 1704.0293290422774, 1516.487557522122, 1448.3670892647588, 1244.500539324357, 1173.3590315776758, 1097.4919001639162, 919.2279620718659, 854.8008437349275, 793.6103639678821, 760.947229563733, 758.1805641507343, 615.8576369353669, 482.4011745450398, 455.4179770786497, 454.1545374168109, 445.56341295243425, 450.8260134742653, 448.9592247744035, 435.72542608417154, 423.48389469140005, 417.1189538793019, 417.11873284919585, 390.0614271458244, 373.82092434743726, 345.5125250924356, 335.9174187349785, 336.9624806520524, 333.70853858242975, 328.4931122003729, 2093.033474463737, 1699.0639824373372, 575.1375131059451, 721.7371834187583, 842.6940144039211, 722.9384504693417, 2598.6777328994503, 862.8356669981378, 698.5989309498052, 1692.095976768781, 1436.3800582512247, 2193.3656073458033, 781.7713599739341, 2910.3514013022655, 878.3476229912965, 1194.7555036595957, 1234.731008637507, 1280.7237109192613, 2548.4498411801856, 1763.8933755672633, 1075.0155381353566, 1054.9290167647316, 1244.33192492918, 1135.7352869280014, 1544.446097694996, 2228.206772414844, 1217.6577591267596, 1351.5489561599327, 1412.663527873419, 1036.002587693508, 1232.553546335745, 1124.8587111671986, 1205.8158501657038], \"Total\": [13384.0, 8388.0, 13416.0, 15262.0, 12158.0, 8047.0, 6042.0, 7703.0, 7302.0, 11683.0, 10392.0, 4882.0, 8535.0, 6242.0, 9890.0, 10996.0, 7044.0, 7147.0, 8299.0, 8448.0, 10178.0, 6319.0, 2987.0, 7463.0, 4784.0, 11938.0, 4541.0, 7114.0, 7996.0, 3809.0, 13384.576017675505, 8047.745932482056, 7703.343677509665, 7302.543774226208, 4784.137068634739, 4541.372943985025, 4132.117330807242, 2656.513374045724, 2719.568971928054, 2581.288708529769, 2433.2226566168606, 2155.7763579127177, 2088.764966235412, 2021.1328865936607, 1991.4849997895656, 1799.2188413563645, 1616.3561952904483, 1374.1131547630685, 1214.8246096941366, 893.4426533924704, 857.7590888721255, 783.3780520879654, 770.924929999842, 725.8955084165298, 705.7255406065005, 672.9963221752344, 678.7530519225677, 658.8204675328722, 619.2773957461893, 558.3276926616664, 805.581419550052, 1314.6976773897918, 12158.997878077998, 8299.819927931998, 1621.6340169873447, 5972.944284166152, 2079.4398020254116, 7339.017897614517, 1666.215769446912, 4089.101439927897, 8448.661644475293, 3278.151600453729, 10178.118899155388, 4021.0263474185285, 3736.58470265418, 7996.416294467332, 13416.310123676383, 10392.873259369666, 15262.665208897839, 9890.410453467553, 4217.761241568173, 6817.641388213821, 11683.177626892351, 10996.396625605115, 8535.676111792083, 4059.572562264959, 7114.99330751223, 7147.757744933704, 11938.666859419602, 8689.025260395543, 1051.248727802083, 975.4306792823028, 918.679040089784, 886.2297435719988, 808.1191333197723, 749.3857835005927, 665.21843273874, 636.4299955587999, 655.5262146399216, 613.6283153380159, 632.3233996234374, 584.3302606499734, 532.0416848607304, 534.0970820115754, 490.4383125934386, 492.6760780805388, 473.65819062059205, 455.1193485690772, 453.41969941810106, 459.0246315502933, 420.3981999923517, 413.8323777706098, 409.1677149593711, 406.019339199048, 395.877222351873, 374.0856058046465, 382.6104131793256, 371.16916258690003, 374.0332993863703, 356.4135139320343, 3320.9641025145866, 987.0757239268992, 863.7672758633774, 2126.6836597494816, 670.1786749269528, 582.2826611881266, 661.6924999889267, 2053.65204884372, 1533.2328787342008, 1521.7590425009641, 1562.1972308432114, 7463.914595603217, 947.8230942262188, 1233.7465255743712, 5292.674200855938, 3350.590804900743, 5995.235251542672, 2460.865821368432, 1140.1323977951463, 8478.199492373351, 4260.357032902234, 1768.3241652043807, 2144.166262605473, 2885.4680772707065, 2422.788024647813, 4473.300006344103, 1614.0340286745407, 5790.563672604589, 3297.2378052606914, 3969.2011921258118, 6659.304562868037, 3821.216187040213, 4178.497674208558, 5641.109685656281, 4086.4468383682292, 2648.29836794309, 6445.858952714022, 4358.191077917017, 4731.196522837843, 2688.3300608615195, 2156.3978410663144, 3757.185132769348, 5049.038200280987, 8388.240715955146, 6042.576022853274, 4882.519088460969, 3146.6290558638348, 2480.138066863944, 2365.1799858855416, 2359.992040780476, 1885.6294059655793, 1548.8203626773977, 1450.377606875127, 1422.2946606867254, 1327.8361686488022, 1189.1580610968556, 1149.5009679349978, 1112.6276125569896, 1059.3821264880671, 1101.3463773293706, 1068.588226091184, 969.7959423495928, 920.7659547441905, 926.4005366592639, 690.8302936718935, 687.4877573249158, 660.4639498675166, 664.4248673445617, 612.5378104656716, 588.8826441574529, 556.4470133058898, 546.1471825099104, 524.7723459481824, 530.9382269872284, 3350.892135760832, 968.9248264689363, 1425.6148065297582, 1136.2634518785298, 1003.911846334643, 1593.1960812353673, 3030.5233131301998, 6319.785638967759, 897.3235501876046, 2328.14345574366, 1708.0909426523674, 3761.1462437610144, 10410.564806111946, 10996.396625605115, 5880.780252710014, 7114.99330751223, 7229.829687110834, 3376.14083579377, 4642.2848579612655, 4098.870548253676, 8689.025260395543, 2125.131438189929, 2633.151287659486, 2549.0755682799863, 5641.109685656281, 8448.661644475293, 4503.117723404846, 2716.9068692244027, 2528.570801726477, 2184.813029974051, 1788.8008695149836, 1438.6206714076206, 1277.2703872653465, 1229.03391991587, 1211.2585394553823, 1150.677051763179, 976.2792806394199, 797.3157099813051, 676.7844136158167, 642.9604967477879, 619.4353019665954, 638.4598648143221, 565.0221239706048, 561.132651625351, 551.1995644173179, 538.5688671057603, 533.7447750499359, 521.4892428771356, 469.1414586782232, 445.9817077475191, 604.6174549178291, 432.3682664052749, 432.1359611170531, 420.0089027893983, 412.98447666383584, 377.8046002013168, 367.016686533933, 2034.1700294718767, 1388.8010336398324, 2584.6501893364702, 6242.8822148572835, 2256.2947039029086, 1336.6380533323968, 1764.786808137946, 1211.7805503692211, 3456.100233361425, 2651.683737181507, 3627.211396757583, 5373.787187816676, 2821.2878318558305, 11683.177626892351, 8535.676111792083, 7147.757744933704, 11938.666859419602, 15262.665208897839, 7044.928229691299, 13416.310123676383, 4134.28687698393, 10392.873259369666, 9890.410453467553, 4642.2848579612655, 6659.304562868037, 5160.952635805552, 3664.204246765242, 3235.9821867448495, 7996.416294467332, 10178.118899155388, 6817.641388213821, 2987.9567236650137, 1704.8624155166387, 1517.32149617916, 1449.2393571847963, 1245.3390591163575, 1174.1953779637024, 1098.33097642585, 920.0935497346662, 855.6546229116756, 794.4430308409864, 761.7847757738112, 759.0276028440367, 616.7097887236364, 483.25787581023985, 456.2476536669934, 454.9840934301927, 446.3927640121022, 451.6683725311386, 449.800802510771, 436.5550273685795, 424.3136140206067, 417.9483142787356, 417.9480933065341, 390.8968518387421, 374.6944622494116, 346.34578618391714, 336.74653135991275, 337.79752048599926, 334.5447669263205, 329.337436205856, 2168.8045374573535, 1775.2594127875986, 599.8304963274597, 771.3999970785563, 938.3498600693988, 790.3002888021039, 3809.6429126679177, 1021.4511951073389, 790.6920357368606, 2854.449129720263, 2410.5725159119793, 4512.423559998011, 1008.5718816367379, 7044.928229691299, 1228.4353603583259, 1962.7933800408741, 2074.602509031784, 2289.885177946275, 7229.829687110834, 4564.240796532973, 1838.919300952575, 1801.3967504203874, 2606.288932424256, 2168.91584190378, 4481.329602484125, 11938.666859419602, 2759.450882017006, 4094.0497990836684, 6501.110977294577, 2095.4216419874033, 5062.029948760182, 3235.9821867448495, 10410.564806111946], \"Category\": [\"Default\", \"Default\", \"Default\", \"Default\", \"Default\", \"Default\", \"Default\", \"Default\", \"Default\", \"Default\", \"Default\", \"Default\", \"Default\", \"Default\", \"Default\", \"Default\", \"Default\", \"Default\", \"Default\", \"Default\", \"Default\", \"Default\", \"Default\", \"Default\", \"Default\", \"Default\", \"Default\", \"Default\", \"Default\", \"Default\", \"Topic1\", \"Topic1\", \"Topic1\", \"Topic1\", \"Topic1\", \"Topic1\", \"Topic1\", \"Topic1\", \"Topic1\", \"Topic1\", \"Topic1\", \"Topic1\", \"Topic1\", \"Topic1\", \"Topic1\", \"Topic1\", \"Topic1\", \"Topic1\", \"Topic1\", \"Topic1\", \"Topic1\", \"Topic1\", \"Topic1\", \"Topic1\", \"Topic1\", \"Topic1\", \"Topic1\", \"Topic1\", \"Topic1\", \"Topic1\", \"Topic1\", \"Topic1\", \"Topic1\", \"Topic1\", \"Topic1\", \"Topic1\", \"Topic1\", \"Topic1\", \"Topic1\", \"Topic1\", \"Topic1\", \"Topic1\", \"Topic1\", \"Topic1\", \"Topic1\", \"Topic1\", \"Topic1\", \"Topic1\", \"Topic1\", \"Topic1\", \"Topic1\", \"Topic1\", \"Topic1\", \"Topic1\", \"Topic1\", \"Topic1\", \"Topic1\", \"Topic1\", \"Topic1\", \"Topic1\", \"Topic2\", \"Topic2\", \"Topic2\", \"Topic2\", \"Topic2\", \"Topic2\", \"Topic2\", \"Topic2\", \"Topic2\", \"Topic2\", \"Topic2\", \"Topic2\", \"Topic2\", \"Topic2\", \"Topic2\", \"Topic2\", \"Topic2\", \"Topic2\", \"Topic2\", \"Topic2\", \"Topic2\", \"Topic2\", \"Topic2\", \"Topic2\", \"Topic2\", \"Topic2\", \"Topic2\", \"Topic2\", \"Topic2\", \"Topic2\", \"Topic2\", \"Topic2\", \"Topic2\", \"Topic2\", \"Topic2\", \"Topic2\", \"Topic2\", \"Topic2\", \"Topic2\", \"Topic2\", \"Topic2\", \"Topic2\", \"Topic2\", \"Topic2\", \"Topic2\", \"Topic2\", \"Topic2\", \"Topic2\", \"Topic2\", \"Topic2\", \"Topic2\", \"Topic2\", \"Topic2\", \"Topic2\", \"Topic2\", \"Topic2\", \"Topic2\", \"Topic2\", \"Topic2\", \"Topic2\", \"Topic2\", \"Topic2\", \"Topic2\", \"Topic2\", \"Topic2\", \"Topic2\", \"Topic2\", \"Topic2\", \"Topic2\", \"Topic2\", \"Topic2\", \"Topic2\", \"Topic2\", \"Topic3\", \"Topic3\", \"Topic3\", \"Topic3\", \"Topic3\", \"Topic3\", \"Topic3\", \"Topic3\", \"Topic3\", \"Topic3\", \"Topic3\", \"Topic3\", \"Topic3\", \"Topic3\", \"Topic3\", \"Topic3\", \"Topic3\", \"Topic3\", \"Topic3\", \"Topic3\", \"Topic3\", \"Topic3\", \"Topic3\", \"Topic3\", \"Topic3\", \"Topic3\", \"Topic3\", \"Topic3\", \"Topic3\", \"Topic3\", \"Topic3\", \"Topic3\", \"Topic3\", \"Topic3\", \"Topic3\", \"Topic3\", \"Topic3\", \"Topic3\", \"Topic3\", \"Topic3\", \"Topic3\", \"Topic3\", \"Topic3\", \"Topic3\", \"Topic3\", \"Topic3\", \"Topic3\", \"Topic3\", \"Topic3\", \"Topic3\", \"Topic3\", \"Topic3\", \"Topic3\", \"Topic3\", \"Topic3\", \"Topic3\", \"Topic3\", \"Topic3\", \"Topic4\", \"Topic4\", \"Topic4\", \"Topic4\", \"Topic4\", \"Topic4\", \"Topic4\", \"Topic4\", \"Topic4\", \"Topic4\", \"Topic4\", \"Topic4\", \"Topic4\", \"Topic4\", \"Topic4\", \"Topic4\", \"Topic4\", \"Topic4\", \"Topic4\", \"Topic4\", \"Topic4\", \"Topic4\", \"Topic4\", \"Topic4\", \"Topic4\", \"Topic4\", \"Topic4\", \"Topic4\", \"Topic4\", \"Topic4\", \"Topic4\", \"Topic4\", \"Topic4\", \"Topic4\", \"Topic4\", \"Topic4\", \"Topic4\", \"Topic4\", \"Topic4\", \"Topic4\", \"Topic4\", \"Topic4\", \"Topic4\", \"Topic4\", \"Topic4\", \"Topic4\", \"Topic4\", \"Topic4\", \"Topic4\", \"Topic4\", \"Topic4\", \"Topic4\", \"Topic4\", \"Topic4\", \"Topic4\", \"Topic4\", \"Topic4\", \"Topic4\", \"Topic4\", \"Topic4\", \"Topic4\", \"Topic5\", \"Topic5\", \"Topic5\", \"Topic5\", \"Topic5\", \"Topic5\", \"Topic5\", \"Topic5\", \"Topic5\", \"Topic5\", \"Topic5\", \"Topic5\", \"Topic5\", \"Topic5\", \"Topic5\", \"Topic5\", \"Topic5\", \"Topic5\", \"Topic5\", \"Topic5\", \"Topic5\", \"Topic5\", \"Topic5\", \"Topic5\", \"Topic5\", \"Topic5\", \"Topic5\", \"Topic5\", \"Topic5\", \"Topic5\", \"Topic5\", \"Topic5\", \"Topic5\", \"Topic5\", \"Topic5\", \"Topic5\", \"Topic5\", \"Topic5\", \"Topic5\", \"Topic5\", \"Topic5\", \"Topic5\", \"Topic5\", \"Topic5\", \"Topic5\", \"Topic5\", \"Topic5\", \"Topic5\", \"Topic5\", \"Topic5\", \"Topic5\", \"Topic5\", \"Topic5\", \"Topic5\", \"Topic5\", \"Topic5\", \"Topic5\", \"Topic5\", \"Topic5\", \"Topic5\", \"Topic5\", \"Topic5\", \"Topic5\"], \"logprob\": [30.0, 29.0, 28.0, 27.0, 26.0, 25.0, 24.0, 23.0, 22.0, 21.0, 20.0, 19.0, 18.0, 17.0, 16.0, 15.0, 14.0, 13.0, 12.0, 11.0, 10.0, 9.0, 8.0, 7.0, 6.0, 5.0, 4.0, 3.0, 2.0, 1.0, -3.8258, -4.3345, -4.3783, -4.4317, -4.8547, -4.9068, -5.0012, -5.4431, -5.4197, -5.4719, -5.5309, -5.6521, -5.6836, -5.7166, -5.7314, -5.8329, -5.9402, -6.1026, -6.2259, -6.5335, -6.5742, -6.665, -6.6811, -6.7413, -6.7695, -6.8171, -6.8086, -6.8384, -6.9004, -7.0041, -6.6446, -6.1676, -4.0392, -4.4225, -5.9769, -4.7423, -5.7557, -4.6313, -5.9872, -5.1792, -4.5361, -5.3856, -4.4004, -5.2175, -5.2825, -4.6668, -4.2577, -4.4797, -4.1771, -4.5435, -5.213, -4.9469, -4.6283, -4.748, -4.9511, -5.2999, -5.122, -5.1258, -4.9926, -5.0858, -6.0832, -6.1581, -6.2181, -6.2541, -6.3464, -6.4219, -6.5412, -6.5855, -6.556, -6.622, -6.592, -6.671, -6.7649, -6.7611, -6.8464, -6.8419, -6.8813, -6.9213, -6.9251, -6.9129, -7.0008, -7.0166, -7.0279, -7.0357, -7.0611, -7.1177, -7.0952, -7.1256, -7.118, -7.1663, -4.9363, -6.1642, -6.3152, -5.4614, -6.5638, -6.699, -6.5812, -5.536, -5.8117, -5.821, -5.7987, -4.4229, -6.268, -6.0386, -4.7572, -5.1712, -4.6721, -5.4584, -6.1144, -4.411, -5.0119, -5.7505, -5.5959, -5.3868, -5.5272, -5.047, -5.8547, -4.8826, -5.3226, -5.2069, -4.8525, -5.2521, -5.1975, -5.0392, -5.2532, -5.5373, -5.011, -5.2797, -5.2393, -5.6282, -5.7151, -5.6452, -5.6088, -3.8982, -4.2262, -4.4394, -4.8788, -5.1169, -5.1644, -5.1666, -5.3911, -5.588, -5.6537, -5.6732, -5.742, -5.8524, -5.8863, -5.9189, -5.968, -5.9292, -5.9594, -6.0564, -6.1084, -6.1024, -6.396, -6.4009, -6.441, -6.4351, -6.5164, -6.5559, -6.6126, -6.6313, -6.6713, -6.6596, -4.837, -6.0761, -5.7116, -5.9301, -6.056, -5.6332, -5.0638, -4.4378, -6.1763, -5.3819, -5.656, -5.0816, -4.3645, -4.3399, -4.9024, -4.7857, -4.8147, -5.2723, -5.1302, -5.298, -4.9811, -5.6564, -5.5982, -5.6092, -5.4673, -5.3988, -5.5773, -4.8754, -4.9472, -5.0934, -5.2935, -5.5114, -5.6305, -5.669, -5.6836, -5.7349, -5.8994, -6.1021, -6.2662, -6.3175, -6.3548, -6.3246, -6.4469, -6.4539, -6.4717, -6.4949, -6.504, -6.5272, -6.6332, -6.6839, -6.3796, -6.715, -6.7155, -6.744, -6.7609, -6.8502, -6.8792, -5.2373, -5.6109, -5.0376, -4.2308, -5.1968, -5.692, -5.5021, -5.8338, -4.9605, -5.1946, -4.9747, -4.7274, -5.2302, -4.2035, -4.4416, -4.6219, -4.3276, -4.1724, -4.7096, -4.3214, -5.0837, -4.6412, -4.6828, -5.0883, -4.9783, -5.1098, -5.2847, -5.3666, -5.1263, -5.0642, -5.2266, -4.5087, -5.07, -5.1866, -5.2325, -5.3842, -5.4431, -5.51, -5.6872, -5.7599, -5.8341, -5.8762, -5.8798, -6.0877, -6.332, -6.3895, -6.3923, -6.4114, -6.3997, -6.4038, -6.4337, -6.4622, -6.4774, -6.4774, -6.5444, -6.587, -6.6657, -6.6939, -6.6908, -6.7005, -6.7162, -4.8644, -5.0729, -6.1561, -5.9291, -5.7741, -5.9274, -4.648, -5.7505, -5.9617, -5.077, -5.2409, -4.8175, -5.8492, -4.5347, -5.7327, -5.425, -5.3921, -5.3556, -4.6675, -5.0355, -5.5306, -5.5495, -5.3844, -5.4757, -5.1683, -4.8018, -5.4061, -5.3017, -5.2575, -5.5676, -5.3939, -5.4853, -5.4158], \"loglift\": [30.0, 29.0, 28.0, 27.0, 26.0, 25.0, 24.0, 23.0, 22.0, 21.0, 20.0, 19.0, 18.0, 17.0, 16.0, 15.0, 14.0, 13.0, 12.0, 11.0, 10.0, 9.0, 8.0, 7.0, 6.0, 5.0, 4.0, 3.0, 2.0, 1.0, 1.237, 1.237, 1.2369, 1.2369, 1.2369, 1.2369, 1.2369, 1.2367, 1.2367, 1.2367, 1.2367, 1.2367, 1.2367, 1.2366, 1.2366, 1.2366, 1.2365, 1.2364, 1.2364, 1.2361, 1.2361, 1.236, 1.2359, 1.2359, 1.2359, 1.2358, 1.2358, 1.2358, 1.2357, 1.2356, 1.2284, 1.2156, 1.1196, 1.1181, 1.1965, 1.1274, 1.169, 1.0324, 1.1591, 1.0693, 0.9867, 1.084, 0.9363, 1.0478, 1.0562, 0.911, 0.8027, 0.8361, 0.7544, 0.8219, 1.0045, 0.7904, 0.5704, 0.5114, 0.5616, 0.9559, 0.5727, 0.5643, 0.1845, 0.409, 1.5237, 1.5237, 1.5236, 1.5236, 1.5235, 1.5234, 1.5233, 1.5232, 1.5232, 1.5232, 1.5232, 1.5231, 1.523, 1.523, 1.5229, 1.5228, 1.5228, 1.5228, 1.5227, 1.5227, 1.5226, 1.5226, 1.5226, 1.5226, 1.5225, 1.5224, 1.5224, 1.5223, 1.5223, 1.5223, 1.5203, 1.5057, 1.4881, 1.4409, 1.4933, 1.4987, 1.4887, 1.4013, 1.4178, 1.416, 1.4121, 1.2239, 1.4424, 1.4082, 1.2334, 1.2766, 1.1938, 1.298, 1.4113, 1.1084, 1.1957, 1.3364, 1.2983, 1.2104, 1.2447, 1.1118, 1.3234, 1.0181, 1.1412, 1.0714, 0.9083, 1.0642, 1.0294, 0.8876, 0.996, 1.1457, 0.7824, 0.9051, 0.8634, 1.0397, 1.1733, 0.688, 0.4289, 1.6319, 1.6318, 1.6318, 1.6317, 1.6316, 1.6316, 1.6316, 1.6315, 1.6314, 1.6314, 1.6314, 1.6313, 1.6312, 1.6312, 1.6312, 1.6312, 1.6312, 1.6312, 1.6311, 1.631, 1.631, 1.6307, 1.6307, 1.6307, 1.6306, 1.6306, 1.6305, 1.6304, 1.6304, 1.6304, 1.6303, 1.6106, 1.6124, 1.5907, 1.599, 1.597, 1.558, 1.4843, 1.3754, 1.5889, 1.4299, 1.4655, 1.2505, 0.9495, 0.9194, 0.9828, 0.909, 0.864, 1.1678, 0.9914, 0.9481, 0.5138, 1.2466, 1.0905, 1.1119, 0.4594, 0.124, 0.5748, 1.782, 1.782, 1.782, 1.7819, 1.7817, 1.7817, 1.7816, 1.7816, 1.7816, 1.7815, 1.7813, 1.7811, 1.781, 1.781, 1.781, 1.7808, 1.7808, 1.7808, 1.7808, 1.7808, 1.7807, 1.7805, 1.7804, 1.7804, 1.7804, 1.7804, 1.7803, 1.7803, 1.7801, 1.7801, 1.7095, 1.7176, 1.6697, 1.5946, 1.6464, 1.6747, 1.5867, 1.631, 1.4562, 1.4871, 1.3937, 1.2479, 1.3895, 0.9952, 1.0711, 1.0682, 0.8495, 0.759, 0.995, 0.739, 1.1538, 0.6745, 0.6825, 1.0334, 0.7826, 0.9059, 1.0735, 1.1159, 0.4516, 0.2725, 0.5108, 2.0536, 2.0534, 2.0533, 2.0533, 2.0532, 2.0532, 2.0531, 2.053, 2.0529, 2.0528, 2.0528, 2.0528, 2.0525, 2.0521, 2.0521, 2.0521, 2.052, 2.052, 2.052, 2.052, 2.0519, 2.0519, 2.0519, 2.0518, 2.0516, 2.0515, 2.0514, 2.0514, 2.0514, 2.0513, 2.0183, 2.01, 2.0119, 1.9873, 1.9464, 1.9648, 1.6714, 1.8851, 1.9301, 1.531, 1.5362, 1.3325, 1.7992, 1.1699, 1.7184, 1.5575, 1.535, 1.4728, 1.0112, 1.1032, 1.5171, 1.5188, 1.3146, 1.4069, 0.9886, 0.3753, 1.2358, 0.9456, 0.5274, 1.3495, 0.6412, 0.9972, -0.1018]}, \"token.table\": {\"Topic\": [3, 4, 5, 3, 5, 1, 1, 4, 5, 4, 5, 1, 2, 3, 4, 1, 4, 5, 1, 1, 2, 3, 1, 2, 3, 4, 5, 4, 3, 1, 4, 5, 1, 3, 4, 3, 1, 3, 4, 5, 1, 3, 4, 5, 2, 2, 3, 1, 4, 5, 4, 4, 5, 1, 4, 5, 2, 2, 1, 2, 1, 1, 2, 4, 1, 1, 1, 2, 3, 5, 2, 3, 1, 1, 4, 5, 1, 5, 5, 5, 1, 2, 3, 4, 1, 3, 5, 3, 1, 1, 4, 5, 4, 2, 2, 5, 2, 3, 4, 1, 3, 5, 2, 2, 2, 1, 3, 4, 5, 3, 5, 1, 2, 3, 4, 5, 3, 1, 4, 1, 2, 3, 4, 5, 1, 3, 1, 3, 4, 5, 1, 4, 2, 4, 5, 2, 1, 4, 5, 5, 1, 2, 3, 4, 5, 1, 2, 4, 1, 2, 3, 4, 5, 1, 3, 5, 4, 1, 3, 4, 5, 1, 2, 3, 1, 4, 3, 4, 3, 1, 4, 5, 3, 4, 2, 3, 1, 2, 3, 2, 2, 1, 2, 5, 3, 1, 2, 4, 5, 3, 4, 3, 5, 1, 1, 2, 3, 5, 4, 5, 3, 4, 1, 3, 4, 1, 1, 3, 5, 1, 2, 3, 1, 2, 4, 4, 2, 2, 1, 2, 5, 1, 3, 1, 1, 2, 4, 5, 1, 2, 3, 5, 4, 2, 2, 1, 4, 5, 4, 4, 3, 1, 2, 3, 4, 4, 1, 3, 4, 4, 5, 5, 5, 5, 1, 4, 4, 1, 2, 1, 4, 1, 2, 4, 5, 2, 3, 1, 2, 5, 4, 3, 2, 4, 5, 5, 5, 1, 2, 4, 5, 1, 1, 2, 3, 5, 1, 3, 5, 2, 4, 4, 4, 2, 5, 1, 2, 4, 5, 3, 5, 2, 3, 4, 1, 2, 4, 5, 1, 3, 2, 5, 1, 4, 5, 1, 2, 3, 1, 3, 2, 4, 5, 4, 4, 5, 5, 1, 4, 5, 1, 4, 5, 1, 2, 3, 4, 4, 2, 4, 5, 5, 2, 2, 5, 5, 5, 1, 2, 4, 1, 2, 4, 1, 3, 1, 2, 4, 5, 5, 5, 1, 2, 4, 5, 3, 1, 3, 1, 3, 1, 2, 3, 4, 5, 1, 3, 1, 5, 3, 3, 4, 1, 4, 5, 4, 2, 3, 3, 4, 4, 1, 1, 1, 3, 1, 2, 3, 1, 4, 1, 2, 3, 5, 1, 2, 3, 2, 3, 3, 1, 2, 3, 2, 1, 3, 5, 1, 3, 3, 4, 1, 2, 3, 2, 3, 2, 3, 1, 1, 3, 5, 3, 3, 1, 4, 1, 2, 2, 4, 4, 2, 3, 4, 1, 3, 5, 2, 1, 4, 5, 1, 2, 3, 5, 1, 2, 4, 5, 1, 4, 5, 1, 2, 4, 5, 1, 2, 3, 3, 3, 4, 4, 5, 5, 5, 4, 4, 5, 1, 2, 3, 4, 5, 1, 4, 5, 2, 4, 2, 2, 3, 5, 1, 2, 3, 4, 5, 1, 1, 2, 1, 1, 1, 2, 2, 2, 4, 4, 5, 2, 1, 3, 5, 4, 5, 3, 3, 1, 4, 2, 1, 3, 4, 5, 5, 1, 2, 3, 4, 5, 3, 2, 4, 5, 1, 3, 4, 5, 1, 2, 3, 4, 5, 2, 4, 2, 4, 5, 3, 3, 1, 5, 5, 3, 2, 3, 1, 1, 2, 3, 5, 1, 4], \"Freq\": [0.12833624611898417, 0.28658136315552823, 0.5845824770250339, 0.042810644716233956, 0.9570432285905459, 0.9999255363277482, 0.6398107133562236, 0.280448895904883, 0.07979299130348136, 0.04001130343812648, 0.9586041448717801, 0.1722424184536812, 0.7305573804836217, 0.08248228489331214, 0.014902261556354712, 0.4913720246730726, 0.1637906748910242, 0.34454060222308086, 0.9976220189700119, 0.1124449509951574, 0.6619274351822287, 0.22556054782129986, 0.1341934552212011, 0.528973937093876, 0.30951357043093414, 0.010636205169447908, 0.016663388098801725, 0.9975979014189987, 0.9985282266602923, 0.0957269036581381, 0.8598916690670682, 0.04456252411671946, 0.1519905988850806, 0.680428501510299, 0.16798960929403645, 0.9991966650998196, 0.4368729387060382, 0.32684909007511814, 0.1654961237774718, 0.0707789402803513, 0.4189006202083453, 0.08255883943464763, 0.16829301884755096, 0.33023535773859053, 0.9981683719530686, 0.9992608516574867, 0.9987775169037779, 0.13875230890923404, 0.5135998605949821, 0.3476533352402857, 0.9997742591482559, 0.8933510652723048, 0.10639737676478295, 0.14698647773473744, 0.7216225895087307, 0.13107258742881114, 0.9988121480967745, 0.9994348048146504, 0.11540416504998476, 0.8842783279779423, 0.9997623252389247, 0.9988002333770135, 0.9971461214639404, 0.9981910018612689, 0.9994394794121776, 0.9993225719249107, 0.8960405028702124, 0.02109512394649603, 0.035660804766695677, 0.04704547483305861, 0.9986151381972916, 0.9998936842946101, 0.9997564632474677, 0.617126817045617, 0.35943918869436825, 0.023455929557525308, 0.9789322839264591, 0.020537040921534105, 0.99967980671961, 0.9977831060147881, 0.06513989569974474, 0.1754141760603613, 0.5047731992613178, 0.2547043112754064, 0.5145472162474986, 0.48531317610013996, 0.9959390094813878, 0.9992975394529714, 0.9996398708475172, 0.8456625620079933, 0.1323029051608804, 0.022009725442660322, 0.9995522869377849, 0.9988397916580876, 0.8899721111585912, 0.10942280055228581, 0.635644271448165, 0.19172623486803553, 0.172578805367417, 0.48397672266637964, 0.4903424443098683, 0.02555382545457585, 0.998612387384966, 0.9980420991618297, 0.9977841050145257, 0.15850995799293324, 0.4639113430264381, 0.025035167885445825, 0.35242877222163516, 0.9996662090845698, 0.9994941436277851, 0.1810384138496975, 0.5382967286329408, 0.01009593182431773, 0.11885665193174055, 0.1518978833567804, 0.9996392930572334, 0.6696896831417848, 0.33032251181404415, 0.026689006131009833, 0.6817827929830694, 0.08734583824694127, 0.18409348547185192, 0.020320038758837033, 0.6524368627384124, 0.3475369946172959, 0.23547595869562896, 0.6285282822039304, 0.04620660321574606, 0.08945124468689301, 0.507613624879674, 0.4923306340230817, 0.8969882628439417, 0.07491330546828524, 0.02759963885673667, 0.9977678070415682, 0.740215365397745, 0.2209642098194224, 0.038808742942939914, 0.9994423378092733, 0.15368358978226207, 0.6845905363028039, 0.02605446608102232, 0.05437453790822049, 0.08118420590463477, 0.09190148824435553, 0.5399963263508211, 0.3679062846383514, 0.13292916745044794, 0.6595740056636247, 0.016748839199612786, 0.14389847763047606, 0.04682598001581884, 0.8347194693016069, 0.04014361025817283, 0.1252480640054992, 0.9994116057479885, 0.3490339456714331, 0.07086218335445942, 0.39342751207552706, 0.18662050178928555, 0.999500749944975, 0.9957951660772204, 0.003914525902329563, 0.9989719224191929, 0.9973248292706849, 0.9595859931687967, 0.03998274971536653, 0.9978994993535656, 0.7550055955373645, 0.08350632851131046, 0.16134703591418392, 0.5271111262816043, 0.47282751213245666, 0.964194093193858, 0.03475934818723939, 0.2653605423945958, 0.6312126511398077, 0.10337023101170151, 0.9986277432361385, 0.9991062839460466, 0.01166709882562195, 0.05315011687227777, 0.935960594677672, 0.9995411276173899, 0.051207331675767666, 0.7184038355945647, 0.17430508664878572, 0.05604450632917894, 0.9652241912852122, 0.03386751548369166, 0.9994703306483009, 0.9977310249943893, 0.9985195726300344, 0.15664548698172923, 0.8284680087661852, 0.014137679330480976, 0.9986461587955612, 0.9979814904335541, 0.999129059871301, 0.9788438025192548, 0.02088995920010605, 0.8878505876013718, 0.0836162719222896, 0.028554836376920224, 0.9979372801995298, 0.8149591789310217, 0.17195761307656737, 0.013080769299009878, 0.4688281301482078, 0.4761196331650727, 0.05491898016957828, 0.5678309187362549, 0.33432109899783685, 0.09784041641287405, 0.9995685649317041, 0.9990743688052379, 0.9994852004013333, 0.31551513555327726, 0.0020999343464444408, 0.6822161708011377, 0.8892180184925798, 0.1107821560219668, 0.999729598479958, 0.9993212109076847, 0.9991972637734852, 0.9996278720591205, 0.9983716172537217, 0.2801961329021703, 0.09855373066768144, 0.5053520244080624, 0.11584385885499397, 0.9978237203097466, 0.9995584726916528, 0.9984046090793679, 0.6602354908041858, 0.33294877047751664, 0.0067742385733354435, 0.9978703271455983, 0.9986896365980624, 0.9999046726344699, 0.1627714484384915, 0.7039517342724505, 0.041272532510044854, 0.09228352774717895, 0.9973712876981663, 0.999504553100538, 0.9584056941559136, 0.04123373335321954, 0.10124155610038026, 0.8983855978170585, 0.9972654025572172, 0.9989698195622063, 0.9976390576080848, 0.06980734055789176, 0.9296174717955866, 0.9992797279207897, 0.9999178785821766, 0.9979886112945199, 0.6476445401083953, 0.35225780832688186, 0.3771214353379244, 0.273408101889831, 0.10588637472033918, 0.24357817169809368, 0.8987545330606547, 0.10109357955326667, 0.42660002422309146, 0.08731449846436261, 0.4859916120110335, 0.999005388930948, 0.9987981220865687, 0.36488917597679543, 0.03952564389709013, 0.5952947586939794, 0.9987881827478078, 0.9987286199132214, 0.10202781798144132, 0.7474482369158924, 0.05535953827511538, 0.09503702304567589, 0.9991899104093357, 0.13692400288579243, 0.8178266235712489, 0.03221741244371587, 0.012391312478352257, 0.17053816701777738, 0.05354105243581383, 0.7753537593482669, 0.9698906042792959, 0.029842787823978333, 0.9991482575529036, 0.9991587539618592, 0.11635377092708857, 0.8840357160655968, 0.9988905362260476, 0.7404961470561039, 0.20980947463178193, 0.04970582061838512, 0.9995796423194088, 0.99690414359285, 0.14052688905900687, 0.036831644309820354, 0.8221956291315281, 0.9997907859907481, 0.7804593733663834, 0.052229594775953, 0.1671347032830496, 0.9601426608530197, 0.039466364993316155, 0.99905280281324, 0.9988490717406879, 0.14933907631869825, 0.7444326683159351, 0.10634752404513359, 0.06908137718190048, 0.7972803648875809, 0.13328642185684328, 0.07092661181565271, 0.9289503140457169, 0.1098851422132241, 0.8287838568676698, 0.06118968560561458, 0.997566920047017, 0.03458126295139899, 0.9650477780970411, 0.9997277375074077, 0.8581055249582273, 0.06131504106526971, 0.08053318826483186, 0.4028816036683472, 0.585992688199365, 0.010979221531839485, 0.7926005784900866, 0.12684454367101297, 0.08037439309247363, 0.9996662126204342, 0.9977987712714108, 0.2965161824561891, 0.0947629036715656, 0.6088261821909725, 0.9977315525020503, 0.9986104101362003, 0.15468188862748025, 0.8448763916804776, 0.9981465905707747, 0.9985202140070313, 0.09042759412732436, 0.2313071691244669, 0.6779312620703982, 0.36510936248855613, 0.5895096878250212, 0.04527160325762928, 0.9995174078633454, 0.9991792682204212, 0.035736391565143556, 0.9197418671239578, 0.02304056824594782, 0.021159705531992895, 0.9989819599138813, 0.9973970919602068, 0.0581974149473916, 0.7561536466923504, 0.08048578662937136, 0.10566339167753368, 0.9998000857893743, 0.7785848548333633, 0.22133683164159157, 0.8276493891010074, 0.17234405848767972, 0.03905770408502259, 0.6159957901409278, 0.12275278426721385, 0.21128358019326507, 0.011159344024292169, 0.03168279322940725, 0.967205271086627, 0.9248502074323325, 0.07442013349877302, 0.9993702772461357, 0.9804682200807009, 0.018577292591002756, 0.7218233502917563, 0.26424337130396414, 0.013881218274841466, 0.998943743055893, 0.8928787586149355, 0.10612802533635284, 0.9994359185859614, 0.9988409697386117, 0.9985061341207643, 0.9991150325517114, 0.9991609551815375, 0.9987663397746003, 0.9991681330741607, 0.13664985085809647, 0.7975127814585152, 0.06575982583956178, 0.5089227781263561, 0.4909980117696957, 0.06041405830267833, 0.244402326769926, 0.5943331060295953, 0.10082086353109307, 0.11361144839673303, 0.11266204910650963, 0.7737604215320676, 0.15280216848097825, 0.8465591403199025, 0.9990261504044404, 0.09482773318760745, 0.7198927170455249, 0.18543046836190566, 0.9989760652787514, 0.48574813952895934, 0.03645029483037215, 0.47730701862087316, 0.9918302242450825, 0.007448036727747804, 0.9984881953282168, 0.9983498255899963, 0.04352843460316232, 0.8936131574413911, 0.06273215575161628, 0.999488553446496, 0.9982328886120099, 0.18254888845079595, 0.8169599666668562, 0.9998067489323639, 0.06698513062759552, 0.8625572978351462, 0.07028489075703373, 0.9995641865914234, 0.9995011010187034, 0.9343862698537766, 0.06540222990227154, 0.9999073116263468, 0.9974894319047491, 0.32467442338113345, 0.6752235551758289, 0.9976161896645883, 0.5163598654605562, 0.19720170056270936, 0.28639689631561754, 0.9999553859305709, 0.08477790145003632, 0.91484213057278, 0.9979459127403516, 0.40002005725960954, 0.040613390092951625, 0.5594166957964627, 0.2769354327142737, 0.2594078736817247, 0.07712125974321545, 0.3864826766677047, 0.3197518813473935, 0.012767870262135505, 0.08160334471886606, 0.5856566576762156, 0.5134733196379292, 0.45518438303625736, 0.031327093680193714, 0.3699578143958688, 0.43330310923487364, 0.18577737730094704, 0.01117858144217733, 0.30353115118991675, 0.17395650849707833, 0.522549707342641, 0.9992905221660765, 0.9998520886563513, 0.9990618351503545, 0.28410123256155634, 0.7147303214585858, 0.9991201380403838, 0.999144822296847, 0.9986046232492557, 0.999297259995978, 0.99881147983813, 0.0257315191446604, 0.6027047101668778, 0.22104929198097523, 0.04800914310211806, 0.10258068705992132, 0.441915832806678, 0.06347171248735224, 0.49441123411200694, 0.9968500546253589, 0.997229862915677, 0.9975405383827418, 0.9737538789890414, 0.024043305654050405, 0.9992349449250353, 0.04450586170600546, 0.29001374013858994, 0.007014510812359557, 0.5333447014225111, 0.12505179620654797, 0.9987546417069515, 0.018235683001492847, 0.9816876015803648, 0.9999569640700801, 0.9996337710332289, 0.07807364101041653, 0.9210579540823463, 0.9972374133852107, 0.10174781397322627, 0.8977748291755259, 0.9989609654632873, 0.997705656020192, 0.9970979749346105, 0.3745998073235199, 0.02945358396452925, 0.5957091066628732, 0.40708380047882525, 0.592758855774675, 0.9993605487009243, 0.9990897380672861, 0.5836131839504606, 0.41620223078538826, 0.9993243631478709, 0.3505554678207325, 0.2059647965826945, 0.2261151986382083, 0.21734746644611452, 0.9982196507736292, 0.06595515114476981, 0.028266493347758492, 0.3410098748748813, 0.12357531066135444, 0.44139216535345954, 0.9985011544045151, 0.13172596934187134, 0.4550791570151288, 0.41306311506987675, 0.13064194283563907, 0.5818123733261601, 0.25900524713344725, 0.028482981722886425, 0.028448774140992655, 0.15208129727708222, 0.6827705793838237, 0.10183065884112324, 0.03482980759317792, 0.12675649129756011, 0.8726696900870484, 0.06264396259267353, 0.9374993022489763, 0.9990016157328574, 0.9994495296908373, 0.9997396492655864, 0.47627481898664986, 0.5237639829320757, 0.9978370816817497, 0.9991219962972364, 0.9643801325621835, 0.03473157740319988, 0.9994975155218386, 0.13066897305463185, 0.6095492204581453, 0.07251410043141658, 0.18738792289702702, 0.5102299392540235, 0.4896640491881224], \"Term\": [\"abuse\", \"abuse\", \"abuse\", \"access\", \"access\", \"account\", \"admit\", \"admit\", \"admit\", \"affidavit\", \"affidavit\", \"agency\", \"agency\", \"agency\", \"agency\", \"agent\", \"agent\", \"agent\", \"aggravate_identity_theft\", \"agree\", \"agree\", \"agree\", \"agreement\", \"agreement\", \"agreement\", \"agreement\", \"agreement\", \"aid_racketeering\", \"air_pollution\", \"aka\", \"aka\", \"aka\", \"allegation\", \"allegation\", \"allegation\", \"allegation_only_determination\", \"allege\", \"allege\", \"allege\", \"allege\", \"allegedly\", \"allegedly\", \"allegedly\", \"allegedly\", \"anticompetitive\", \"antitrust\", \"approve\", \"arrest\", \"arrest\", \"arrest\", \"assault\", \"attack\", \"attack\", \"attempt\", \"attempt\", \"attempt\", \"auction\", \"automotive\", \"award\", \"award\", \"bank\", \"bid\", \"bid_rigging\", \"bomb\", \"bribe\", \"bribery\", \"business\", \"business\", \"business\", \"business\", \"campaign\", \"care\", \"cash\", \"charge\", \"charge\", \"charge\", \"check\", \"check\", \"child\", \"child_pornography\", \"civil\", \"civil\", \"civil\", \"civil\", \"claim\", \"claim\", \"classified\", \"cleanup\", \"client\", \"co_conspirator\", \"co_conspirator\", \"co_conspirator\", \"cocaine\", \"colleague\", \"combat\", \"combat\", \"community\", \"community\", \"community\", \"company\", \"company\", \"company\", \"competition\", \"competitive\", \"competitor\", \"complaint\", \"complaint\", \"complaint\", \"complaint\", \"compliance\", \"computer\", \"conduct\", \"conduct\", \"conduct\", \"conduct\", \"conduct\", \"consent_decree\", \"conspiracy\", \"conspiracy\", \"continue\", \"continue\", \"continue\", \"continue\", \"continue\", \"contract\", \"contract\", \"control\", \"control\", \"control\", \"control\", \"convict\", \"convict\", \"cooperation\", \"cooperation\", \"cooperation\", \"counsel\", \"count\", \"count\", \"count\", \"counterfeit\", \"country\", \"country\", \"country\", \"country\", \"country\", \"crime\", \"crime\", \"crime\", \"criminal\", \"criminal\", \"criminal\", \"criminal\", \"criminal\", \"customer\", \"customer\", \"customer\", \"death\", \"defendant\", \"defendant\", \"defendant\", \"defendant\", \"defraud\", \"department\", \"department\", \"deposit\", \"detainee\", \"discharge\", \"discharge\", \"doctor\", \"document\", \"document\", \"document\", \"drug\", \"drug\", \"economic\", \"economic\", \"effort\", \"effort\", \"effort\", \"elect\", \"election\", \"email\", \"email\", \"email\", \"emission\", \"enforcement\", \"enforcement\", \"enforcement\", \"enforcement\", \"environment\", \"environment\", \"environmental\", \"epidemic_child\", \"evasion\", \"executive\", \"executive\", \"executive\", \"exploit\", \"explosive\", \"export\", \"facility\", \"facility\", \"false\", \"false\", \"false\", \"fictitious\", \"file\", \"file\", \"file\", \"financial\", \"financial\", \"financial\", \"fine\", \"fine\", \"fine\", \"firearm\", \"fix\", \"foreclosure_auction\", \"foreign\", \"foreign\", \"foreign\", \"fraud\", \"fraud\", \"fraudulent\", \"fraudulently\", \"funding\", \"gang\", \"girl\", \"government\", \"government\", \"government\", \"government\", \"gram\", \"grant\", \"guidance\", \"guilty\", \"guilty\", \"guilty\", \"gun\", \"hate\", \"health\", \"help\", \"help\", \"help\", \"help\", \"heroin\", \"homeowner\", \"hospital\", \"hospital\", \"housing\", \"housing\", \"identify_rescue\", \"image\", \"immigration\", \"imprisonment\", \"imprisonment\", \"incident\", \"income\", \"increase_gain_derive\", \"indictment\", \"indictment\", \"individual\", \"individual\", \"individual\", \"individual\", \"industry\", \"industry\", \"information\", \"information\", \"information\", \"inmate\", \"inspection\", \"international\", \"international\", \"international\", \"internet\", \"internet_as_well\", \"investigation\", \"investigation\", \"investigation\", \"investigation\", \"investor\", \"issue\", \"issue\", \"issue\", \"issue\", \"item\", \"item\", \"item\", \"jurisdiction\", \"jurisdiction\", \"kidnapping\", \"kill\", \"launch\", \"launch\", \"launder\", \"law\", \"law\", \"law\", \"lawsuit\", \"lead_office_marshal\", \"life\", \"life\", \"life\", \"loan\", \"local\", \"local\", \"local\", \"loss\", \"loss\", \"loss_suffer\", \"lottery\", \"man\", \"man\", \"man\", \"market\", \"market\", \"market\", \"medical\", \"medical\", \"member\", \"member\", \"member\", \"methamphetamine\", \"military\", \"military\", \"minor\", \"money\", \"money\", \"money\", \"month\", \"month\", \"month\", \"more\", \"more\", \"more\", \"murder\", \"narcotic\", \"national\", \"national\", \"national\", \"nationwide_initiative_combat_grow\", \"native\", \"network\", \"network\", \"nuclear\", \"odometer\", \"officer\", \"officer\", \"officer\", \"official\", \"official\", \"official\", \"offshore\", \"oil\", \"ongoing\", \"ongoing\", \"ongoing\", \"ongoing\", \"online\", \"origin\", \"partner\", \"partner\", \"partner\", \"partner\", \"patient\", \"pay\", \"pay\", \"payment\", \"payment\", \"people\", \"people\", \"people\", \"people\", \"people\", \"permit\", \"permit\", \"personal\", \"personal\", \"physician\", \"plant\", \"plant\", \"plead\", \"plead\", \"plead\", \"plot\", \"policy\", \"policy\", \"pollution\", \"possess_intent_distribute\", \"possession_intent_distribute\", \"preparation\", \"prepare\", \"preparer\", \"prescription\", \"price\", \"price\", \"price\", \"prison\", \"prison\", \"product\", \"product\", \"product\", \"product\", \"program\", \"program\", \"program\", \"project\", \"project\", \"provider\", \"public\", \"public\", \"public\", \"public_real_estate\", \"purchase\", \"purchase\", \"purchase\", \"purport\", \"purport\", \"quality\", \"racketeering\", \"rate\", \"rate\", \"rate\", \"recognize\", \"recovery\", \"reduce\", \"reduce\", \"refund\", \"require\", \"require\", \"require\", \"requirement\", \"resolve\", \"restitution\", \"restitution\", \"return\", \"rig_bid\", \"right\", \"right\", \"robbery\", \"say\", \"say\", \"say\", \"scheme\", \"school\", \"school\", \"section\", \"security\", \"security\", \"security\", \"sell\", \"sell\", \"sell\", \"sell\", \"send\", \"send\", \"send\", \"send\", \"sentence\", \"sentence\", \"sentence\", \"serve\", \"serve\", \"serve\", \"serve\", \"service\", \"service\", \"service\", \"settle\", \"settlement\", \"sex_trafficking\", \"sexual\", \"sexual\", \"sexual_exploitation\", \"ship\", \"shoot\", \"shooting\", \"software\", \"state\", \"state\", \"state\", \"state\", \"state\", \"steal\", \"steal\", \"steal\", \"strategy\", \"street_gang\", \"strengthen\", \"strong\", \"strong\", \"student\", \"support\", \"support\", \"support\", \"support\", \"support\", \"swiss\", \"task_force\", \"task_force\", \"tax\", \"taxis\", \"team\", \"team\", \"technical\", \"terrorist\", \"terrorist\", \"terrorist_organization\", \"trade_secret\", \"trader\", \"transfer\", \"transfer\", \"transfer\", \"travel\", \"travel\", \"treat\", \"treatment\", \"trial\", \"trial\", \"tribal\", \"use\", \"use\", \"use\", \"use\", \"user\", \"vehicle\", \"vehicle\", \"vehicle\", \"vehicle\", \"vehicle\", \"vessel\", \"victim\", \"victim\", \"victim\", \"violate\", \"violate\", \"violate\", \"violate\", \"violation\", \"violation\", \"violation\", \"violation\", \"violation\", \"violence\", \"violence\", \"violent\", \"violent\", \"visa\", \"waste\", \"water\", \"website\", \"website\", \"well_locate_apprehend\", \"whistleblower\", \"wildlife\", \"wildlife\", \"wire\", \"work\", \"work\", \"work\", \"work\", \"year\", \"year\"]}, \"R\": 30, \"lambda.step\": 0.01, \"plot.opts\": {\"xlab\": \"PC1\", \"ylab\": \"PC2\"}, \"topic.order\": [4, 2, 5, 3, 1]};\n",
              "\n",
              "function LDAvis_load_lib(url, callback){\n",
              "  var s = document.createElement('script');\n",
              "  s.src = url;\n",
              "  s.async = true;\n",
              "  s.onreadystatechange = s.onload = callback;\n",
              "  s.onerror = function(){console.warn(\"failed to load library \" + url);};\n",
              "  document.getElementsByTagName(\"head\")[0].appendChild(s);\n",
              "}\n",
              "\n",
              "if(typeof(LDAvis) !== \"undefined\"){\n",
              "   // already loaded: just create the visualization\n",
              "   !function(LDAvis){\n",
              "       new LDAvis(\"#\" + \"ldavis_el154428599567710723687696036\", ldavis_el154428599567710723687696036_data);\n",
              "   }(LDAvis);\n",
              "}else if(typeof define === \"function\" && define.amd){\n",
              "   // require.js is available: use it to load d3/LDAvis\n",
              "   require.config({paths: {d3: \"https://d3js.org/d3.v5\"}});\n",
              "   require([\"d3\"], function(d3){\n",
              "      window.d3 = d3;\n",
              "      LDAvis_load_lib(\"https://cdn.jsdelivr.net/gh/bmabey/pyLDAvis@3.3.1/pyLDAvis/js/ldavis.v3.0.0.js\", function(){\n",
              "        new LDAvis(\"#\" + \"ldavis_el154428599567710723687696036\", ldavis_el154428599567710723687696036_data);\n",
              "      });\n",
              "    });\n",
              "}else{\n",
              "    // require.js not available: dynamically load d3 & LDAvis\n",
              "    LDAvis_load_lib(\"https://d3js.org/d3.v5.js\", function(){\n",
              "         LDAvis_load_lib(\"https://cdn.jsdelivr.net/gh/bmabey/pyLDAvis@3.3.1/pyLDAvis/js/ldavis.v3.0.0.js\", function(){\n",
              "                 new LDAvis(\"#\" + \"ldavis_el154428599567710723687696036\", ldavis_el154428599567710723687696036_data);\n",
              "            })\n",
              "         });\n",
              "}\n",
              "</script>"
            ],
            "text/plain": [
              "PreparedData(topic_coordinates=              x         y  topics  cluster       Freq\n",
              "topic                                                \n",
              "3      0.134941  0.209357       1        1  29.023729\n",
              "1     -0.017110 -0.279765       2        1  21.774029\n",
              "4     -0.292528 -0.099317       3        1  19.554343\n",
              "2     -0.103213  0.252779       4        1  16.824459\n",
              "0      0.277911 -0.083054       5        1  12.823440, topic_info=            Term          Freq         Total Category  logprob  loglift\n",
              "1388         tax  13384.000000  13384.000000  Default  30.0000  30.0000\n",
              "518   settlement   8388.000000   8388.000000  Default  29.0000  29.0000\n",
              "588   indictment  13416.000000  13416.000000  Default  28.0000  28.0000\n",
              "656       charge  15262.000000  15262.000000  Default  27.0000  27.0000\n",
              "946        fraud  12158.000000  12158.000000  Default  26.0000  26.0000\n",
              "...          ...           ...           ...      ...      ...      ...\n",
              "257          use   1412.663528   6501.110977   Topic5  -5.2575   0.5274\n",
              "1183       steal   1036.002588   2095.421642   Topic5  -5.5676   1.3495\n",
              "590   individual   1232.553546   5062.029949   Topic5  -5.3939   0.6412\n",
              "16        arrest   1124.858711   3235.982187   Topic5  -5.4853   0.9972\n",
              "794   government   1205.815850  10410.564806   Topic5  -5.4158  -0.1018\n",
              "\n",
              "[345 rows x 6 columns], token_table=      Topic      Freq    Term\n",
              "term                         \n",
              "1465      3  0.128336   abuse\n",
              "1465      4  0.286581   abuse\n",
              "1465      5  0.584582   abuse\n",
              "641       3  0.042811  access\n",
              "641       5  0.957043  access\n",
              "...     ...       ...     ...\n",
              "269       2  0.609549    work\n",
              "269       3  0.072514    work\n",
              "269       5  0.187388    work\n",
              "271       1  0.510230    year\n",
              "271       4  0.489664    year\n",
              "\n",
              "[564 rows x 3 columns], R=30, lambda_step=0.01, plot_opts={'xlab': 'PC1', 'ylab': 'PC2'}, topic_order=[4, 2, 5, 3, 1])"
            ]
          },
          "execution_count": 235,
          "metadata": {},
          "output_type": "execute_result"
        }
      ],
      "source": [
        "pyLDAvis.enable_notebook()\n",
        "vis = pyLDAvis.gensim_models.prepare(lda_model, corpus, id2word, mds=\"mmds\", R=30)\n",
        "vis"
      ]
    },
    {
      "cell_type": "markdown",
      "metadata": {
        "id": "FQhwsIyzLAxJ"
      },
      "source": [
        "Here we can see that I have chosen 5 topics for the LDA model. Looking at the words associated with each topic, we can get a better sense of what each topic is about.\n",
        "\n",
        "Topic 1:\n",
        "- This topic has words such as \"tax, \"fraud\", \"false\", \"conspiracy\"\n",
        "- Looking at the words associated with this topic, we can guess that this topic is about tax fraud.\n",
        "\n",
        "Topic 2:\n",
        "- This topic has words such as \"criminal\", \"law\", \"enforcement\", \"public\", \"state\"\n",
        "- Looking at the words associated with this topic, we can guess that this topic is about law enforcement.\n",
        "\n",
        "Topic 3:\n",
        "- This topic has words such as \"settlement\", \"government\", \"health\", \"program\", \"care\"\n",
        "- Looking at the words associated with this topic, we can guess that this topic is about medical settlements.\n",
        "\n",
        "Topic 4:\n",
        "- This topic has words such as \"charge\", \"sentence\", \"murder\", \"assault\", \"attack\"\n",
        "- Looking at the words associated with this topic, we can guess that this topic is about violent crime.\n",
        "\n",
        "Topic 5: \n",
        "- This topic has words such as \"child\", \"victim\", \"military\", \"computer\", \"travel\"\n",
        "- Looking at the words associated with this topic, we can guess that this topic is about child abuse or perhaps something military related.\n"
      ]
    },
    {
      "cell_type": "markdown",
      "metadata": {
        "id": "AyLp1QBMLAxK"
      },
      "source": [
        "## Relative weight of each topic over time."
      ]
    },
    {
      "cell_type": "markdown",
      "metadata": {
        "id": "Ah1KmrzlLAxL"
      },
      "source": [
        "Next, we are interested in analyzing the time specific probability that each topic will be discussed. As a toy example, suppose there are 2 topics and 2 time periods. In the first time period, only topic 1 is discussed. Therefore, in t=1, the weight assigned to topic 1 is 1.00 and the weight assigned to topic 2 is 0.00. In t=2, both topics are discussed equally and are thus given equal weight (0.5 each). Ultimately, we want a plot which displays the relative weight of each topic per year. In this context, I have fit my LDA model with 5 topics, and each time period will be a year. The relative weights can be estimated using the output from the LDA model, and I will do so below.\n",
        "\n",
        "First, we can note that we are able to extract the different topic and word weights from our LDA model. For example, here we can see the weights for each word in each topic."
      ]
    },
    {
      "cell_type": "code",
      "execution_count": null,
      "metadata": {
        "id": "rO3rowCaLAxM",
        "outputId": "ec953a82-87b7-4ca2-e7e8-1fd3c3f283ad"
      },
      "outputs": [
        {
          "name": "stdout",
          "output_type": "stream",
          "text": [
            "Topic: 0 \n",
            "Words: 0.011*\"child\" + 0.011*\"victim\" + 0.010*\"foreign\" + 0.009*\"complaint\" + 0.008*\"defendant\" + 0.008*\"information\" + 0.008*\"military\" + 0.007*\"sell\" + 0.006*\"computer\" + 0.006*\"access\"\n",
            "\n",
            "\n",
            "Topic: 1 \n",
            "Words: 0.012*\"criminal\" + 0.012*\"law\" + 0.009*\"enforcement\" + 0.009*\"investigation\" + 0.008*\"crime\" + 0.008*\"state\" + 0.007*\"department\" + 0.007*\"financial\" + 0.007*\"public\" + 0.006*\"agreement\"\n",
            "\n",
            "\n",
            "Topic: 2 \n",
            "Words: 0.015*\"charge\" + 0.015*\"sentence\" + 0.015*\"member\" + 0.013*\"indictment\" + 0.013*\"defendant\" + 0.012*\"prison\" + 0.010*\"year\" + 0.010*\"conspiracy\" + 0.009*\"guilty\" + 0.009*\"victim\"\n",
            "\n",
            "\n",
            "Topic: 3 \n",
            "Words: 0.022*\"tax\" + 0.018*\"fraud\" + 0.015*\"charge\" + 0.014*\"indictment\" + 0.013*\"return\" + 0.013*\"scheme\" + 0.012*\"count\" + 0.012*\"false\" + 0.012*\"account\" + 0.011*\"conspiracy\"\n",
            "\n",
            "\n",
            "Topic: 4 \n",
            "Words: 0.020*\"settlement\" + 0.015*\"health\" + 0.013*\"company\" + 0.013*\"government\" + 0.012*\"program\" + 0.012*\"care\" + 0.008*\"claim\" + 0.008*\"complaint\" + 0.008*\"facility\" + 0.008*\"patient\"\n",
            "\n",
            "\n"
          ]
        }
      ],
      "source": [
        "for idx, topic in lda_model.print_topics(-1):\n",
        "    print(\"Topic: {} \\nWords: {}\".format(idx, topic))\n",
        "    print(\"\\n\")"
      ]
    },
    {
      "cell_type": "markdown",
      "metadata": {
        "id": "vHI2TuA0LAxN"
      },
      "source": [
        "Next, we can see how each document is made up of the different topics. Using the get_documents_topics() function we can see the weights of each topics for each document. \n",
        "\n",
        "For example, we see here that document one is primarily made up of Topic 3 (recall that Python starts index at 0), with a weight of 0.619."
      ]
    },
    {
      "cell_type": "code",
      "execution_count": null,
      "metadata": {
        "id": "4tOJElMILAxN",
        "outputId": "919c2ad5-40e4-42f5-dd2a-38dcdf9c58eb"
      },
      "outputs": [
        {
          "name": "stdout",
          "output_type": "stream",
          "text": [
            "[(0, 0.19125552), (1, 0.18792363), (2, 0.61875343), (3, 0.0012290312), (4, 0.0008384072)]\n"
          ]
        }
      ],
      "source": [
        "print(lda_model.get_document_topics(corpus[0],minimum_probability=0.0))"
      ]
    },
    {
      "cell_type": "markdown",
      "metadata": {
        "id": "znhE49YhLAxO"
      },
      "source": [
        "Now, in order to calculate the relative weight of each topic over time, I will use the results from the LDA model to show our desired results. \n",
        "\n",
        "I will combine all the documents for each year, and then use the topic model to calculate the relative weights by year using the words and scores from the LDA model."
      ]
    },
    {
      "cell_type": "code",
      "execution_count": null,
      "metadata": {
        "id": "H328WyVWLAxO"
      },
      "outputs": [],
      "source": [
        "#convert 2d array to dataframe\n",
        "data_df = pd.DataFrame(data_bigrams_trigrams)\n",
        "\n",
        "#add id and date\n",
        "data_df_id = pd.concat([docs[['id', 'date']].reset_index(drop=True), data_df], axis=1)\n",
        "\n",
        "#melt words into one column\n",
        "data_df_id_melt = pd.melt(data_df_id, id_vars=['id', 'date'], value_name = 'word').drop('variable', axis = 1).dropna()\n",
        "\n",
        "#extract year from date\n",
        "data_df_id_melt['year'] = [datetime. datetime. strptime(x[0:-6], \"%Y-%m-%dT%H:%M:%S\").year for x in data_df_id_melt['date']]\n"
      ]
    },
    {
      "cell_type": "code",
      "execution_count": null,
      "metadata": {
        "id": "_aClMfGkLAxP",
        "outputId": "b99fa9c8-9471-4815-ded5-5caccb8f14b3"
      },
      "outputs": [
        {
          "name": "stderr",
          "output_type": "stream",
          "text": [
            "<ipython-input-238-2073915148b3>:5: FutureWarning: This dataframe has a column name that matches the 'value_name' column name of the resulting Dataframe. In the future this will raise an error, please set the 'value_name' parameter of DataFrame.melt to a unique name.\n",
            "  word_topics_melt = pd.melt(word_topics, id_vars=['level_0'], var_name = 'word', value_name = 'prop')\n"
          ]
        }
      ],
      "source": [
        "#extract words and scores from LDA model\n",
        "word_topics = pd.DataFrame(gensim.models.ldamodel.LdaModel.get_topics(lda_model), columns = [id2word.get(x) for x in range(len(id2word))]).reset_index(level=0)\n",
        "\n",
        "#convert to long df\n",
        "word_topics_melt = pd.melt(word_topics, id_vars=['level_0'], var_name = 'word', value_name = 'prop')"
      ]
    },
    {
      "cell_type": "code",
      "execution_count": null,
      "metadata": {
        "id": "O0WDfV-5LAxP"
      },
      "outputs": [],
      "source": [
        "#join weights and topics to dates by words\n",
        "topic_terms_weights = pd.merge(data_df_id_melt, word_topics_melt, on='word', how='left')\n",
        "\n",
        "#summarise each topic as proportion by year\n",
        "yearly_topic_terms = topic_terms_weights.groupby(['year', 'level_0']).agg({\"prop\": \"sum\"})\n",
        "yearly_topic_terms_prop = yearly_topic_terms / yearly_topic_terms.groupby('year').sum()"
      ]
    },
    {
      "cell_type": "markdown",
      "metadata": {
        "id": "DOadjWVJLAxQ"
      },
      "source": [
        "Finally, we can plot the relative weights of each of the topics over time like so:"
      ]
    },
    {
      "cell_type": "code",
      "execution_count": null,
      "metadata": {
        "id": "YT7JseXPLAxQ",
        "outputId": "7d385a8f-274a-492e-f23c-eca49f636bf1"
      },
      "outputs": [
        {
          "data": {
            "text/plain": [
              "Text(0.5, 1.0, 'Relative Weights of Topics Over Time')"
            ]
          },
          "execution_count": 240,
          "metadata": {},
          "output_type": "execute_result"
        },
        {
          "data": {
            "image/png": "[encoded data removed]",
            "text/plain": [
              "<Figure size 360x216 with 1 Axes>"
            ]
          },
          "metadata": {
            "needs_background": "light"
          },
          "output_type": "display_data"
        }
      ],
      "source": [
        "#pivot the dataframe\n",
        "yearly_topic_prop_plot = yearly_topic_terms_prop.reset_index(level=0).reset_index(level=0).pivot(index='year', columns='level_0', values='prop')\n",
        "\n",
        "#finally plot the relative weights of the topics over time\n",
        "plt = yearly_topic_prop_plot.plot(figsize = (5, 3),marker='o')\n",
        "plt.legend(loc='upper left', labels=[\"Topic 1\",\"Topic 2\",\"Topic 3\", \"Topic 4\", \"Topic 5\"],bbox_to_anchor=(1, 1))\n",
        "plt.set_xlabel(\"Year\")\n",
        "plt.set_ylabel(\"Relative Weight\")\n",
        "plt.set_title(\"Relative Weights of Topics Over Time\")\n"
      ]
    },
    {
      "cell_type": "markdown",
      "metadata": {
        "id": "JLzgiV7vLAxR"
      },
      "source": [
        "Here we can see the relative weights of the topics over time. Looking at the plot, we see that the topic that had the highest relative weight in all years was Topic 4, and the topic with the lowest relative weight over time was Topic 1. We note that Topics 2 and 5 had relaively low weights over time as well. We can see that there was an increase in Topic 3's relative weight and a decrease in Topic 5's between 2015-2016."
      ]
    }
  ]
}